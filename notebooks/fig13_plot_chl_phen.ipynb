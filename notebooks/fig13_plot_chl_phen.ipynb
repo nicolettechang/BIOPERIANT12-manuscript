{
 "cells": [
  {
   "cell_type": "markdown",
   "id": "0038e4f1",
   "metadata": {},
   "source": [
    "# Plot chl phenology"
   ]
  },
  {
   "cell_type": "markdown",
   "id": "dcc37837",
   "metadata": {
    "toc": true
   },
   "source": [
    "<h1>Table of Contents<span class=\"tocSkip\"></span></h1>\n",
    "<div class=\"toc\"><ul class=\"toc-item\"><li><span><a href=\"#Functions\" data-toc-modified-id=\"Functions-1\"><span class=\"toc-item-num\">1&nbsp;&nbsp;</span>Functions</a></span><ul class=\"toc-item\"><li><span><a href=\"#[Phenology-stats]\" data-toc-modified-id=\"[Phenology-stats]-1.1\"><span class=\"toc-item-num\">1.1&nbsp;&nbsp;</span>[Phenology stats]</a></span></li><li><span><a href=\"#[Plotting]\" data-toc-modified-id=\"[Plotting]-1.2\"><span class=\"toc-item-num\">1.2&nbsp;&nbsp;</span>[Plotting]</a></span></li></ul></li><li><span><a href=\"#Load-Data\" data-toc-modified-id=\"Load-Data-2\"><span class=\"toc-item-num\">2&nbsp;&nbsp;</span>Load Data</a></span><ul class=\"toc-item\"><li><span><a href=\"#Mean-biome-climatology-timeseries\" data-toc-modified-id=\"Mean-biome-climatology-timeseries-2.1\"><span class=\"toc-item-num\">2.1&nbsp;&nbsp;</span>Mean biome climatology timeseries</a></span></li><li><span><a href=\"#Biome-stats\" data-toc-modified-id=\"Biome-stats-2.2\"><span class=\"toc-item-num\">2.2&nbsp;&nbsp;</span>Biome stats</a></span></li></ul></li><li><span><a href=\"#Plot-biome-climatological-seas-cycle-w-bloom\" data-toc-modified-id=\"Plot-biome-climatological-seas-cycle-w-bloom-3\"><span class=\"toc-item-num\">3&nbsp;&nbsp;</span>Plot biome climatological seas cycle w bloom</a></span></li></ul></div>"
   ]
  },
  {
   "cell_type": "code",
   "execution_count": 1,
   "id": "bc216100",
   "metadata": {},
   "outputs": [],
   "source": [
    "import sys\n",
    "import os\n",
    "src_path = os.path.abspath(os.path.join(os.getcwd(), '../src'))\n",
    "sys.path.append(src_path)\n",
    "import bp12_tools as bp12\n",
    "import bp12_tools.plot_utils as pu\n",
    "\n",
    "import pandas as pd\n",
    "import numpy as np\n",
    "import xarray as xr\n",
    "\n",
    "from cartopy import crs as ccrs, feature as cfeature\n",
    "from cmcrameri import cm\n",
    "import cmocean.cm as cmo\n",
    "import matplotlib as mpl\n",
    "import matplotlib.pyplot as plt\n",
    "\n",
    "%matplotlib inline\n",
    "\n",
    "import warnings\n",
    "warnings.filterwarnings(\"ignore\")"
   ]
  },
  {
   "cell_type": "markdown",
   "id": "7dad3639",
   "metadata": {},
   "source": [
    "---"
   ]
  },
  {
   "cell_type": "markdown",
   "id": "274e3eca",
   "metadata": {},
   "source": [
    "## Functions"
   ]
  },
  {
   "cell_type": "markdown",
   "id": "f566d3b7",
   "metadata": {},
   "source": [
    " ### [Phenology stats]"
   ]
  },
  {
   "cell_type": "code",
   "execution_count": 2,
   "id": "2cf76267",
   "metadata": {},
   "outputs": [],
   "source": [
    "def get_phen_info_3d(filename):\n",
    "    '''\n",
    "    read phenology on map and convert to dates\n",
    "    '''\n",
    "    phen_mdl = xr.open_dataset(filename)\n",
    "    mdl_init = phen_mdl.initiation_ts.astype('<M8[ns]').dt.dayofyear\n",
    "    mdl_term = phen_mdl.termination_ts.astype('<M8[ns]').dt.dayofyear\n",
    "    mdl_dura_arr = phen_mdl.duration_ts.values.astype('timedelta64[D]').astype('int')\n",
    "    mdl_dura_arr =np.ma.masked_where(mdl_dura_arr<0,mdl_dura_arr)\n",
    "    mdl_phen = xr.Dataset(\n",
    "            data_vars={\n",
    "                \"init\": (['lat','lon'], mdl_init.values),\n",
    "                \"term\": (['lat','lon'], mdl_term.values),\n",
    "                \"dura\": (['lat','lon'], mdl_dura_arr[:])\n",
    "            },\n",
    "            coords = {'lat': (['lat'], phen_mdl.lat.values),\n",
    "              'lon': (['lon'], phen_mdl.lon.values)\n",
    "             }\n",
    "            )\n",
    "    return mdl_phen\n",
    "\n",
    "def get_phen_info(filename):\n",
    "    '''\n",
    "    read phenology from TS\n",
    "    '''\n",
    "    phen_mdl = xr.open_dataset(filename)\n",
    "    mdl_init = phen_mdl.initiation_ts.values.astype('<M8[ns]') #.dt.dayofyear\n",
    "    mdl_term = phen_mdl.termination_ts.values.astype('<M8[ns]')# .dt.dayofyear\n",
    "    mdl_max = phen_mdl.max_time.values.astype('<M8[ns]')#.dt.dayofyear\n",
    "    mdl_dura = phen_mdl.duration_ts.values.astype('timedelta64[D]').astype('int')\n",
    "    return (mdl_init, mdl_term, mdl_max, mdl_dura)\n",
    "\n",
    "def get_bp12_date(dayin, cal='365'):\n",
    "    '''\n",
    "    365 day calendar date\n",
    "    '''\n",
    "    #if cal in '365':\n",
    "    dayin = int(dayin)\n",
    "    ndays_in_mo = [0,31,28,31,30,31,30,31,31,30,31,30,31]\n",
    "    cum_days = np.array([sum(ndays_in_mo[:i+1]) for i in range(len(ndays_in_mo))]) \n",
    "    m_indx = np.argmax(np.where(cum_days<dayin))\n",
    "    mo_out = m_indx + 1\n",
    "    day_out = dayin-cum_days[m_indx]+1\n",
    "    # Adjust for plot that starts in July\n",
    "    # if in 1st 6 months of yr, change yr\n",
    "    if mo_out < 7:\n",
    "        return pd.Timestamp(2001, mo_out, day_out)\n",
    "    else:\n",
    "        return pd.Timestamp(2000, mo_out, day_out)\n",
    "\n",
    "    \n",
    "def get_biome_itd(ds_in, biome):\n",
    "    '''\n",
    "    get biome initiation, termination and duration mean\n",
    "    '''\n",
    "    init_mean, init_std = get_bp12_date(int(ds_in[f'init{biome}_mean'].values)), int(ds_in[f'init{biome}_std'].values)\n",
    "    term_mean, term_std = get_bp12_date(int(ds_in[f'term{biome}_mean'].values)), int(ds_in[f'term{biome}_std'].values)\n",
    "    dura_mean, dura_std = int(ds_in[f'dura{biome}_mean'].values), int(ds_in[f'dura{biome}_std'].values)\n",
    "    return (init_mean, init_std, term_mean, term_std, dura_mean, dura_std)    "
   ]
  },
  {
   "cell_type": "markdown",
   "id": "fd5c25ca",
   "metadata": {},
   "source": [
    "### [Plotting]"
   ]
  },
  {
   "cell_type": "code",
   "execution_count": 3,
   "id": "7d844949",
   "metadata": {},
   "outputs": [],
   "source": [
    "def make_reorder_ds(mdlvals, obsvals):\n",
    "    '''\n",
    "    reorder jan-dec monthly to\n",
    "    july to july monthly\n",
    "    '''\n",
    "    ts_jj = [pd.Timestamp(2000, mo, 1) for mo in range(7,13)]+[pd.Timestamp(2001, mo, 1) for mo in range(1,8)]\n",
    "    mdl_new = np.concatenate((mdlvals.sel(time=slice('2000-07-01','2000-12-31')).values, \n",
    "                              mdlvals.sel(time=slice('2000-01-01','2000-07-31')).values))\n",
    "    obs_new = np.concatenate((obsvals.sel(time=slice('2000-07-01','2000-12-31')).values, \n",
    "                              obsvals.sel(time=slice('2000-01-01','2000-07-31')).values))    \n",
    "    ds_new = xr.Dataset(\n",
    "        data_vars={\n",
    "            \"mdl\": (['time'], mdl_new[:]),\n",
    "            \"obs\": (['time'], obs_new[:])\n",
    "            },\n",
    "        coords = {'time': (['time'], ts_jj[:])\n",
    "                 }\n",
    "        )\n",
    "    return ds_new    "
   ]
  },
  {
   "cell_type": "code",
   "execution_count": 5,
   "id": "27b3030b",
   "metadata": {},
   "outputs": [],
   "source": [
    "red, blue = pu.formatting.get_rbg_colors('r'), pu.formatting.get_rbg_colors('b')"
   ]
  },
  {
   "cell_type": "code",
   "execution_count": 6,
   "id": "d270d770",
   "metadata": {},
   "outputs": [],
   "source": [
    "def plot_biomeclim(axin, mean_mdl, mean_obs, std_mdl, std_obs, colrin, bloomin=None, add_leg=None, add_leg_it=None, add_leg_max=None):\n",
    "   \n",
    "    mean_ds =make_reorder_ds(mean_mdl, mean_obs)\n",
    "    std_ds =make_reorder_ds(std_mdl, std_obs)\n",
    "    axin.plot(mean_ds.time, mean_ds.mdl, c=red, lw=2, label='BIOPERIANT12')\n",
    "    #axin.fill_between(mean_ds.time, mean_ds.mdl-std_ds.mdl, mean_ds.mdl+std_ds.mdl, \n",
    "    #                                   alpha=0.25, zorder=20, facecolor=red)\n",
    "    axin.plot(mean_ds.time, mean_ds.obs, c=blue, lw=2,  label='OBS')\n",
    "    #axin.fill_between(mean_ds.time, mean_ds.obs-std_ds.obs, mean_ds.obs+std_ds.obs, \n",
    "    #                                   alpha=0.25, zorder=20, facecolor=blue)\n",
    "    axin.set_xlim(pd.Timestamp(2000, 7, 1), pd.Timestamp(2001, 7, 2))\n",
    "    axin.xaxis.set_ticks(mean_ds.time)\n",
    "    axin.xaxis.set_ticklabels(['J', 'A', 'S', 'O', 'N', 'D', 'J', 'F', 'M', 'A', 'M', 'J','J'],\n",
    "                           fontsize=12)\n",
    "    axin.set_xlabel(\"Month of year\")\n",
    "    axin.set_ylim(0, 2)\n",
    "    axin.set_ylabel(chl_cbar, labelpad=5, fontsize=12)\n",
    "    axin.grid(lw=1, c='0.75', alpha=0.4)\n",
    "    #pu.timeseries_plots.add_seas(axin, (0, 1.9), True)\n",
    "    \n",
    "    if bloomin:\n",
    "        tpad = pd.Timedelta('10 days')\n",
    "        init_m, term_m, max_m, dura_m = bloomin[0], bloomin[1], bloomin[2], bloomin[3]\n",
    "        init_o, term_o, max_o, dura_o = bloomin[4], bloomin[5], bloomin[6], bloomin[7]\n",
    "        yinit_m, yterm_m = mean_ds.mdl.interp(time=init_m).values, mean_ds.mdl.interp(time=term_m).values\n",
    "        yinit_o, yterm_o = mean_ds.obs.interp(time=init_o).values, mean_ds.obs.interp(time=term_o).values\n",
    "        ymax_m,  ymax_o  = mean_ds.mdl.interp(time=max_m).values, mean_ds.obs.interp(time=max_o).values\n",
    "    \n",
    "        #print(init_o, yinit_o)\n",
    "        # draw init and term circles\n",
    "        circr=8\n",
    "        plt.plot(init_m, yinit_m, \"o\", ms=circr, mec=red, mfc='none', mew=1)\n",
    "        plt.plot(term_m, yterm_m, \"o\", ms=circr, mec=red, mfc=red, mew=1)\n",
    "        plt.plot(init_o, yinit_o, \"o\", ms=circr, mec=blue, mfc='none', mew=1)\n",
    "        plt.plot(term_o, yterm_o, \"o\", ms=circr, mec=blue, mfc=blue, mew=1)\n",
    "        \n",
    "        # model duration\n",
    "        plt.annotate('', xy=(init_m,1.2), xycoords='data', xytext=(term_m,1.2), textcoords='data', color=red,\n",
    "                     arrowprops={'arrowstyle': '<->', 'ls':'--', 'lw': 1, 'color': '#0063c5'})\n",
    "        x_txtpos = init_m + np.timedelta64(int(dura_m/2)-60, 'D')\n",
    "        plt.annotate(f'{dura_m} days', xy=(x_txtpos, 1.25), xycoords='data', color=red)\n",
    "        # obs duration\n",
    "        plt.annotate('', xy=(init_o,0.05), xycoords='data', xytext=(term_o,0.05), textcoords='data', color=blue,\n",
    "                     arrowprops={'arrowstyle': '<->','ls':'--', 'lw': 1, 'color': blue})\n",
    "        x_txtpos = init_o + np.timedelta64(int(dura_o/2)-55, 'D')\n",
    "        plt.annotate(f'{dura_o} days', xy=(x_txtpos, 0.1), xycoords='data', color=blue)\n",
    "    \n",
    "    if add_leg:\n",
    "        #axin.legend(ncol=1, frameon=False)\n",
    "        line_mdl = mpl.lines.Line2D([], [], color=red, lw=2, label='BIOPERIANT12')\n",
    "        line_obs = mpl.lines.Line2D([], [], color=blue, lw=2, label='OBS') #linestyle='--',\n",
    "        leg1 = axin.legend(handles = [line_mdl, line_obs], ncol=1, fontsize=10, \n",
    "                      bbox_to_anchor=(-0.02, 0.65), loc=\"lower left\",frameon=False)\n",
    "        axin.add_artist(leg1)\n",
    "    if add_leg_it:\n",
    "        circ_i = mpl.lines.Line2D([], [], color='k', label='Bloom initiation',  marker='o', mfc='none', linestyle='None', markersize=8)\n",
    "        circ_t = mpl.lines.Line2D([], [], color='k', label='Bloom termination', marker='o', linestyle='None', markersize=8)       \n",
    "        leg2 = axin.legend(handles=[circ_i, circ_t], fontsize=10,\n",
    "                    bbox_to_anchor=(-0.02, 0.65), loc=\"lower left\",frameon=False)\n",
    "        axin.add_artist(leg2)\n",
    "    if add_leg_max:\n",
    "        plt.plot(max_m, ymax_m, \"d\", ms=circr, mec=red, mfc=red, mew=1)\n",
    "        plt.plot(max_o, ymax_o, \"d\", ms=circr, mec=blue, mfc=blue, mew=1)\n",
    "        dia_max = mpl.lines.Line2D([], [], color='k', label='Bloom max', marker='d', linestyle='None', markersize=8)\n",
    "        leg3 = axin.legend(handles=[dia_max], fontsize=10,\n",
    "                    bbox_to_anchor=(-0.04, 0.78), loc=\"lower left\",frameon=False)\n",
    "        axin.add_artist(leg3)\n",
    "    axin.set_rasterized(True)\n",
    "    "
   ]
  },
  {
   "cell_type": "markdown",
   "id": "1d9d3b8a",
   "metadata": {},
   "source": [
    "## Load Data"
   ]
  },
  {
   "cell_type": "code",
   "execution_count": 7,
   "id": "66713518",
   "metadata": {},
   "outputs": [],
   "source": [
    "unitstr = pu.formatting.get_unit_mplstr(bp12.model_utils.get_varinfo('chl','unit'))\n",
    "chl_title = f\"{bp12.model_utils.get_varinfo('chl','long_name')} {unitstr}\"\n",
    "chl_cbar = f\"Chl {unitstr}\""
   ]
  },
  {
   "cell_type": "markdown",
   "id": "a902657f",
   "metadata": {},
   "source": [
    "**OBS OC-CCI v6 biome filtered**  \n",
    "biome15: 0.358 +- 0.130  \n",
    "biome16: 0.355 +- 0.152  \n",
    "biome17: 0.213 +- 0.199  "
   ]
  },
  {
   "cell_type": "markdown",
   "id": "062b695f",
   "metadata": {},
   "source": [
    "### Mean biome climatology timeseries"
   ]
  },
  {
   "cell_type": "code",
   "execution_count": 8,
   "id": "f7c71753",
   "metadata": {},
   "outputs": [],
   "source": [
    "chl_bts_mdl = xr.open_dataset(f\"../data/TIMESERIES/BIOPERIANT12_timeseries_chl_meanbiome_clim.nc\")\n",
    "chl_bts_obs = xr.open_dataset(f\"../data/TIMESERIES/OBS_timeseries_chl_meanbiome_clim.nc\")"
   ]
  },
  {
   "cell_type": "markdown",
   "id": "7114b477",
   "metadata": {},
   "source": [
    "### Biome stats"
   ]
  },
  {
   "cell_type": "code",
   "execution_count": 9,
   "id": "340065c1",
   "metadata": {},
   "outputs": [],
   "source": [
    "b15_phen_obs = get_phen_info(f\"../data/CHL/OCCCIv6_PHENOLOGY_biome15_clim.nc\")\n",
    "b16_phen_obs = get_phen_info(f\"../data/CHL/OCCCIv6_PHENOLOGY_biome16_clim.nc\")\n",
    "b17_phen_obs = get_phen_info(f\"../data/CHL/OCCCIv6_PHENOLOGY_biome17_clim.nc\")\n",
    "b15_phen_mdl = get_phen_info(f\"../data/CHL/BIOPERIANT12_PHENOLOGY_biome15_clim.nc\")\n",
    "b16_phen_mdl = get_phen_info(f\"../data/CHL/BIOPERIANT12_PHENOLOGY_biome16_clim.nc\")\n",
    "b17_phen_mdl = get_phen_info(f\"../data/CHL/BIOPERIANT12_PHENOLOGY_biome17_clim.nc\")"
   ]
  },
  {
   "cell_type": "markdown",
   "id": "86a605a0",
   "metadata": {},
   "source": [
    "## Plot biome climatological seas cycle w bloom"
   ]
  },
  {
   "cell_type": "code",
   "execution_count": 11,
   "id": "7ac46048",
   "metadata": {},
   "outputs": [],
   "source": [
    "color17 = pu.formatting.get_biome_colors(17)\n",
    "color16 = pu.formatting.get_biome_colors(16)\n",
    "color15 = pu.formatting.get_biome_colors(15)"
   ]
  },
  {
   "cell_type": "code",
   "execution_count": 12,
   "id": "430a08c7",
   "metadata": {},
   "outputs": [
    {
     "data": {
      "image/png": "[encoded data removed]",
      "text/plain": [
       "<Figure size 864x288 with 3 Axes>"
      ]
     },
     "metadata": {
      "needs_background": "light"
     },
     "output_type": "display_data"
    }
   ],
   "source": [
    "fig = plt.figure(figsize=(12, 4))\n",
    "ax1 = fig.add_subplot(241)\n",
    "z_ts=0\n",
    "plot_biomeclim(ax1, chl_bts_mdl.chl17_mean.sel(deptht=z_ts, method='nearest'), chl_bts_obs.chl17_mean, \n",
    "               chl_bts_mdl.chl17_std.sel(deptht=z_ts, method='nearest'), chl_bts_obs.chl17_std,\n",
    "               color17, \n",
    "               (b17_phen_mdl[0], b17_phen_mdl[1], b17_phen_mdl[2], b17_phen_mdl[3], \\\n",
    "                b17_phen_obs[0], b17_phen_obs[1], b17_phen_obs[2], b17_phen_obs[3])) #, add_leg_max=True)\n",
    "plt.title(f'(a) SO-ICE climatology',loc='left',fontsize=12)\n",
    "\n",
    "ax2 = fig.add_subplot(242)\n",
    "plot_biomeclim(ax2, chl_bts_mdl.chl16_mean.sel(deptht=z_ts, method='nearest'), chl_bts_obs.chl16_mean, \n",
    "               chl_bts_mdl.chl16_std.sel(deptht=z_ts, method='nearest'), chl_bts_obs.chl16_std,   \n",
    "               color16,\n",
    "              (b16_phen_mdl[0], b16_phen_mdl[1], b16_phen_mdl[2], b16_phen_mdl[3],\\\n",
    "               b16_phen_obs[0], b16_phen_obs[1], b16_phen_obs[2], b16_phen_obs[3]), add_leg=True)\n",
    "plt.title(f'(b) SO-SPSS climatology',loc='left',fontsize=12)\n",
    "\n",
    "ax3 = fig.add_subplot(243)\n",
    "plot_biomeclim(ax3, chl_bts_mdl.chl15_mean.sel(deptht=z_ts, method='nearest'), chl_bts_obs.chl15_mean,\n",
    "               chl_bts_mdl.chl15_std.sel(deptht=z_ts, method='nearest'), chl_bts_obs.chl15_std,\n",
    "               color15,\n",
    "              (b15_phen_mdl[0], b15_phen_mdl[1], b15_phen_mdl[2], b15_phen_mdl[3],\\\n",
    "               b15_phen_obs[0], b15_phen_obs[1], b15_phen_obs[2], b15_phen_obs[3]), add_leg_it=True)\n",
    "       \n",
    "plt.title(f'(c) SO-STSS climatology',loc='left',fontsize=12)\n",
    "plt.tight_layout()\n",
    "plt.savefig(f'../figures/f13.png', bbox_inches='tight')"
   ]
  },
  {
   "cell_type": "code",
   "execution_count": 13,
   "id": "164100f4",
   "metadata": {},
   "outputs": [
    {
     "name": "stdout",
     "output_type": "stream",
     "text": [
      "bloom init\n",
      "biome 17 mdl=2000-10-17T12:00:00.000000000, obs=2000-07-27T00:00:00.000000000\n",
      "biome 16 mdl=2000-09-02T12:00:00.000000000, obs=2000-09-13T00:00:00.000000000\n",
      "biome 15 mdl=2000-08-13T12:00:00.000000000, obs=2000-08-12T00:00:00.000000000\n"
     ]
    }
   ],
   "source": [
    "print(\"bloom init\")\n",
    "print(f\"biome 17 mdl={b17_phen_mdl[0]}, obs={b17_phen_obs[0]}\")\n",
    "print(f\"biome 16 mdl={b16_phen_mdl[0]}, obs={b16_phen_obs[0]}\")\n",
    "print(f\"biome 15 mdl={b15_phen_mdl[0]}, obs={b15_phen_obs[0]}\")"
   ]
  },
  {
   "cell_type": "code",
   "execution_count": 14,
   "id": "9d0355d1",
   "metadata": {},
   "outputs": [
    {
     "name": "stdout",
     "output_type": "stream",
     "text": [
      "bloom term\n",
      "biome 17 mdl=2001-05-25T12:00:00.000000000, obs=2001-05-01T00:00:00.000000000\n",
      "biome 16 mdl=2001-06-04T12:00:00.000000000, obs=2001-03-14T00:00:00.000000000\n",
      "biome 15 mdl=2001-05-20T12:00:00.000000000, obs=2001-05-09T00:00:00.000000000\n"
     ]
    }
   ],
   "source": [
    "print(\"bloom term\")\n",
    "print(f\"biome 17 mdl={b17_phen_mdl[1]}, obs={b17_phen_obs[1]}\")\n",
    "print(f\"biome 16 mdl={b16_phen_mdl[1]}, obs={b16_phen_obs[1]}\")\n",
    "print(f\"biome 15 mdl={b15_phen_mdl[1]}, obs={b15_phen_obs[1]}\")"
   ]
  },
  {
   "cell_type": "code",
   "execution_count": 15,
   "id": "30d7c589",
   "metadata": {},
   "outputs": [
    {
     "name": "stdout",
     "output_type": "stream",
     "text": [
      "bloom max\n",
      "biome 17 mdl=2000-12-26T12:00:00.000000000, obs=2000-12-26T00:00:00.000000000\n",
      "biome 16 mdl=2000-12-26T12:00:00.000000000, obs=2000-12-10T00:00:00.000000000\n",
      "biome 15 mdl=2000-12-01T12:00:00.000000000, obs=2000-11-24T00:00:00.000000000\n"
     ]
    }
   ],
   "source": [
    "print(\"bloom max\")\n",
    "print(f\"biome 17 mdl={b17_phen_mdl[2]}, obs={b17_phen_obs[2]}\")\n",
    "print(f\"biome 16 mdl={b16_phen_mdl[2]}, obs={b16_phen_obs[2]}\")\n",
    "print(f\"biome 15 mdl={b15_phen_mdl[2]}, obs={b15_phen_obs[2]}\")"
   ]
  },
  {
   "cell_type": "code",
   "execution_count": null,
   "id": "606a7656",
   "metadata": {},
   "outputs": [],
   "source": []
  }
 ],
 "metadata": {
  "kernelspec": {
   "display_name": "Python 3 (ipykernel)",
   "language": "python",
   "name": "python3"
  },
  "language_info": {
   "codemirror_mode": {
    "name": "ipython",
    "version": 3
   },
   "file_extension": ".py",
   "mimetype": "text/x-python",
   "name": "python",
   "nbconvert_exporter": "python",
   "pygments_lexer": "ipython3",
   "version": "3.9.6"
  },
  "toc": {
   "base_numbering": 1,
   "nav_menu": {},
   "number_sections": true,
   "sideBar": true,
   "skip_h1_title": true,
   "title_cell": "Table of Contents",
   "title_sidebar": "Contents",
   "toc_cell": true,
   "toc_position": {},
   "toc_section_display": true,
   "toc_window_display": true
  }
 },
 "nbformat": 4,
 "nbformat_minor": 5
}
