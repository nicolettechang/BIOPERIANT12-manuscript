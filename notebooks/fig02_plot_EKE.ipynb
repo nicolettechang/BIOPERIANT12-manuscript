{
 "cells": [
  {
   "cell_type": "markdown",
   "id": "85993013",
   "metadata": {
    "toc": true
   },
   "source": [
    "<h1>Table of Contents<span class=\"tocSkip\"></span></h1>\n",
    "<div class=\"toc\"><ul class=\"toc-item\"><li><span><a href=\"#Read-2000-2009-annual-mean-EKE-for-BIOPERIANT12-and-AVISO\" data-toc-modified-id=\"Read-2000-2009-annual-mean-EKE-for-BIOPERIANT12-and-AVISO-1\"><span class=\"toc-item-num\">1&nbsp;&nbsp;</span>Read 2000-2009 annual mean EKE for BIOPERIANT12 and AVISO</a></span></li><li><span><a href=\"#Plot-surface-EKE-over-model-domain\" data-toc-modified-id=\"Plot-surface-EKE-over-model-domain-2\"><span class=\"toc-item-num\">2&nbsp;&nbsp;</span>Plot surface EKE over model domain</a></span></li></ul></div>"
   ]
  },
  {
   "cell_type": "markdown",
   "id": "025fa080",
   "metadata": {},
   "source": [
    "# Figure 2 Plot Eddy Kinetic Energy\n",
    "\n",
    "Plot BIOPERIANT12 EKE vs AVISO EKE calculated from u,v current components"
   ]
  },
  {
   "cell_type": "code",
   "execution_count": 1,
   "id": "40522dad",
   "metadata": {},
   "outputs": [],
   "source": [
    "import sys\n",
    "import os\n",
    "src_path = os.path.abspath(os.path.join(os.getcwd(), '../src'))\n",
    "sys.path.append(src_path)\n",
    "\n",
    "import numpy as np\n",
    "import xarray as xr\n",
    "import cmocean as cmo\n",
    "from cmcrameri import cm\n",
    "from matplotlib import colors\n",
    "\n",
    "import matplotlib.pyplot as plt\n",
    "from cartopy import crs as ccrs\n",
    "%matplotlib inline\n",
    "\n",
    "import bp12_tools.plot_utils as pu"
   ]
  },
  {
   "cell_type": "markdown",
   "id": "e05cac1c",
   "metadata": {},
   "source": [
    "---"
   ]
  },
  {
   "cell_type": "markdown",
   "id": "51310153",
   "metadata": {},
   "source": [
    "## Read 2000-2009 annual mean EKE for BIOPERIANT12 and AVISO"
   ]
  },
  {
   "cell_type": "code",
   "execution_count": 2,
   "id": "bef51123",
   "metadata": {},
   "outputs": [],
   "source": [
    "eke_model = xr.open_dataset(f\"../data/EKE/BIOPERIANT12_EKE_surf_mean.nc\").eke"
   ]
  },
  {
   "cell_type": "code",
   "execution_count": 3,
   "id": "f7bd364c",
   "metadata": {},
   "outputs": [],
   "source": [
    "eke_obs = xr.open_dataset(f\"../data/EKE/AVISO_EKE_surf_mean.nc\").eke"
   ]
  },
  {
   "cell_type": "markdown",
   "id": "58b0eb4b",
   "metadata": {},
   "source": [
    "## Plot surface EKE over model domain"
   ]
  },
  {
   "cell_type": "markdown",
   "id": "ced00f6d",
   "metadata": {},
   "source": [
    "Make colorbar label"
   ]
  },
  {
   "cell_type": "code",
   "execution_count": 4,
   "id": "e9103d71",
   "metadata": {},
   "outputs": [],
   "source": [
    "eke_label = f\"EKE {pu.formatting.get_label_mplstr('EKE')}\""
   ]
  },
  {
   "cell_type": "markdown",
   "id": "15f917c5",
   "metadata": {},
   "source": [
    "Define colorbar with 2 ranges"
   ]
  },
  {
   "cell_type": "code",
   "execution_count": 5,
   "id": "3094bb84",
   "metadata": {},
   "outputs": [],
   "source": [
    "cmap_eke = cmo.tools.crop_by_percent(cm.vikO, 15, which='both', N=None) \n",
    "bounds = np.concatenate((np.arange(0,100,10), np.arange(100,1100,100)))\n",
    "norm_eke  = colors.BoundaryNorm(bounds, cmap_eke.N, extend='max')"
   ]
  },
  {
   "cell_type": "code",
   "execution_count": null,
   "id": "aea09c24",
   "metadata": {},
   "outputs": [],
   "source": [
    "fig = plt.figure(figsize=(20,12))\n",
    "\n",
    "# EKE MODEL: BIOPERIANT\n",
    "ax1 = fig.add_subplot(231, projection = ccrs.Stereographic(central_latitude=-90))\n",
    "mesh = ax1.pcolormesh(eke_model.lon, eke_model.lat, eke_model, \n",
    "                     norm=norm_eke, cmap=cmap_eke,\n",
    "                     transform=ccrs.PlateCarree(), zorder=0)\n",
    "cb = plt.colorbar(mesh, shrink=0.8, aspect = 25, pad = 0.08)\n",
    "cb.set_label(eke_label, rotation=-90, labelpad=15)\n",
    "plt.title('(a) BIOPERIANT12',loc ='left',fontsize=12)\n",
    "pu.maps.map_decorator(ax1)\n",
    "\n",
    "# EKE AVISO OBS\n",
    "ax2 = fig.add_subplot(232, projection = ccrs.Stereographic(central_latitude=-90))\n",
    "mesh = ax2.pcolormesh(eke_obs.lon, eke_obs.lat, eke_obs,\n",
    "                     norm=norm_eke, cmap=cmap_eke,\n",
    "                     transform=ccrs.PlateCarree(), zorder=0)\n",
    "\n",
    "cb = plt.colorbar(mesh, shrink=0.8, aspect = 25, pad = 0.08)\n",
    "cb.set_label(eke_label, rotation=-90, labelpad=15)\n",
    "plt.title('(b) OBS',loc='left',fontsize=12)\n",
    "pu.maps.map_decorator(ax2)\n",
    "plt.savefig(f'../figures/f02.png', bbox_inches='tight')\n",
    "plt.savefig(f'../figures/f02.eps', bbox_inches='tight')"
   ]
  },
  {
   "cell_type": "code",
   "execution_count": null,
   "id": "bd7442c3",
   "metadata": {},
   "outputs": [],
   "source": []
  }
 ],
 "metadata": {
  "kernelspec": {
   "display_name": "Python 3 (ipykernel)",
   "language": "python",
   "name": "python3"
  },
  "language_info": {
   "codemirror_mode": {
    "name": "ipython",
    "version": 3
   },
   "file_extension": ".py",
   "mimetype": "text/x-python",
   "name": "python",
   "nbconvert_exporter": "python",
   "pygments_lexer": "ipython3",
   "version": "3.9.6"
  },
  "toc": {
   "base_numbering": 1,
   "nav_menu": {},
   "number_sections": true,
   "sideBar": true,
   "skip_h1_title": true,
   "title_cell": "Table of Contents",
   "title_sidebar": "Contents",
   "toc_cell": true,
   "toc_position": {},
   "toc_section_display": true,
   "toc_window_display": false
  }
 },
 "nbformat": 4,
 "nbformat_minor": 5
}
