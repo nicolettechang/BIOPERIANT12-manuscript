{
 "cells": [
  {
   "cell_type": "markdown",
   "id": "5c7acc42",
   "metadata": {
    "toc": true
   },
   "source": [
    "<h1>Table of Contents<span class=\"tocSkip\"></span></h1>\n",
    "<div class=\"toc\"><ul class=\"toc-item\"><li><span><a href=\"#Make-MLD-climatology\" data-toc-modified-id=\"Make-MLD-climatology-1\"><span class=\"toc-item-num\">1&nbsp;&nbsp;</span>Make MLD climatology</a></span></li></ul></div>"
   ]
  },
  {
   "cell_type": "markdown",
   "id": "7a5061c3",
   "metadata": {},
   "source": [
    "# MLD additional info about Argo Obs"
   ]
  },
  {
   "cell_type": "markdown",
   "id": "2cce7903",
   "metadata": {},
   "source": [
    "Source: MLD_evaluation_MdP_16Oct19.ipynb"
   ]
  },
  {
   "cell_type": "code",
   "execution_count": 1,
   "id": "ce0321b8",
   "metadata": {},
   "outputs": [],
   "source": [
    "import sys\n",
    "import os\n",
    "src_path = os.path.abspath(os.path.join(os.getcwd(), '../src'))\n",
    "sys.path.append(src_path)\n",
    "import bp12_tools as bp12\n",
    "import bp12_tools.plot_utils as pu\n",
    "\n",
    "import pandas as pd\n",
    "import numpy as np\n",
    "import xarray as xr\n",
    "\n",
    "import matplotlib.pyplot as plt\n",
    "import matplotlib as mpl\n",
    "\n",
    "%matplotlib inline\n",
    "\n",
    "import warnings\n",
    "warnings.filterwarnings(\"ignore\")"
   ]
  },
  {
   "cell_type": "markdown",
   "id": "1586c8a6",
   "metadata": {},
   "source": [
    "---"
   ]
  },
  {
   "cell_type": "markdown",
   "id": "53cbfd63",
   "metadata": {},
   "source": [
    "# MLD Data Stats"
   ]
  },
  {
   "cell_type": "markdown",
   "id": "a2f6f5e6",
   "metadata": {},
   "source": [
    "Load monthly Argo profile and model data co-located on 1 degree grid"
   ]
  },
  {
   "cell_type": "code",
   "execution_count": 5,
   "id": "d1dc734e",
   "metadata": {},
   "outputs": [],
   "source": [
    "ds_mld= xr.open_dataset(f'../data/MLD/BP12_OBS_monthly_mld.nc')\n",
    "latidx_of_data1 = np.min(np.where(~np.isnan(np.nanmean(ds_mld.mld_mdl[0,:,:].values, axis=1))))\n",
    "latidx_of_data2 = np.max(np.where(~np.isnan(np.nanmean(ds_mld.mld_mdl[0,:,:].values, axis=1))))\n",
    "ds_mld = ds_mld.isel(lat=slice(latidx_of_data1, latidx_of_data2))"
   ]
  },
  {
   "cell_type": "code",
   "execution_count": 6,
   "id": "4fc2110b",
   "metadata": {},
   "outputs": [],
   "source": [
    "mld_obs_clim, mld_mdl_clim = [], []\n",
    "\n",
    "for i in range(1, 13, 1):     \n",
    "    x = ds_mld.sel(time=ds_mld['time.month']==i)\n",
    "    mld_obs_clim += np.nanmean(x.mld_obs, axis=0),\n",
    "    mld_mdl_clim += np.nanmean(x.mld_mdl_subsampled, axis=0),\n",
    "    \n",
    "mld_obs_clim = np.array(mld_obs_clim)\n",
    "mld_mdl_clim = np.array(mld_mdl_clim)"
   ]
  },
  {
   "cell_type": "markdown",
   "id": "fe8401fe",
   "metadata": {},
   "source": [
    "Load number of observations of Argo profile"
   ]
  },
  {
   "cell_type": "code",
   "execution_count": 7,
   "id": "c22852a7",
   "metadata": {},
   "outputs": [],
   "source": [
    "num_obs = xr.open_dataset(f'../DATA/MLD/Argo_obs_monthly_1deg_02_09_counts.nc')\n",
    "num_obs_clim = num_obs.num_obs.groupby('time.month').sum()\n",
    "num_obs_2002 = [int(num_obs.num_obs.sel(time=f'2002-{mo:02d}-15').values) for mo in range(1,12+1)]  \n",
    "num_obs_2009 = [int(num_obs.num_obs.sel(time=f'2009-{mo:02d}-15').values) for mo in range(1,12+1)] "
   ]
  },
  {
   "cell_type": "markdown",
   "id": "c81b9b4d",
   "metadata": {},
   "source": [
    "Count ocean points based on model"
   ]
  },
  {
   "cell_type": "code",
   "execution_count": 8,
   "id": "29c07a43",
   "metadata": {},
   "outputs": [
    {
     "name": "stdout",
     "output_type": "stream",
     "text": [
      "total number of gridpoints 16967\n",
      "ocean gridpoints 14266\n",
      "percentage of grid that is ocean 84.08 %\n"
     ]
    }
   ],
   "source": [
    "oceanpts = ds_mld.mld_mdl[0].where(ds_mld.mld_mdl[0]<5)\n",
    "tot_gridpts = ds_mld.lat.size * ds_mld.lon.size\n",
    "tot_ocegridpts = np.count_nonzero(np.isnan(oceanpts.to_masked_array()))\n",
    "print(f\"total number of gridpoints {tot_gridpts}\")\n",
    "print(f\"ocean gridpoints {tot_ocegridpts}\")\n",
    "print(f\"percentage of grid that is ocean {100*(tot_ocegridpts/tot_gridpts):.02f} %\")"
   ]
  },
  {
   "cell_type": "markdown",
   "id": "26da8eb8",
   "metadata": {},
   "source": [
    "Sum number of observations over time period, and for start of dataset, and end of model period"
   ]
  },
  {
   "cell_type": "code",
   "execution_count": 9,
   "id": "7dbe71f9",
   "metadata": {},
   "outputs": [],
   "source": [
    "ngrdpts = xr.Dataset(\n",
    "    {\n",
    "        'num_gpts': (('time',), \n",
    "                    [np.sum(~np.isnan(ds_mld.mld_obs[i])) for i in range(ds_mld.time.size)]),\n",
    "    },\n",
    "    {\"time\": num_obs.time.values},\n",
    ")\n",
    "num_gpts_clim = ngrdpts.groupby('time.month').sum()\n",
    "num_gpts_2002 = ngrdpts.sel(time=slice('2002-01-01','2002-12-31'))\n",
    "num_gpts_2009 = ngrdpts.sel(time=slice('2009-01-01','2009-12-31'))"
   ]
  },
  {
   "cell_type": "markdown",
   "id": "a871fe76",
   "metadata": {},
   "source": [
    "Convert into percentage"
   ]
  },
  {
   "cell_type": "code",
   "execution_count": 10,
   "id": "9388cb0b",
   "metadata": {},
   "outputs": [],
   "source": [
    "ngrdpts_pers_month = [100*((np.sum(~np.isnan(mld_obs_clim[i])))/tot_ocegridpts) for i in range(12)]\n",
    "pers_gpts_2002 = [100*(ngrdpts.num_gpts.sel(time=f'2002-{mo:02d}-15').values/tot_ocegridpts) for mo in range(1,12+1)]  \n",
    "pers_gpts_2009 = [100*(ngrdpts.num_gpts.sel(time=f'2009-{mo:02d}-15').values/tot_ocegridpts) for mo in range(1,12+1)]  "
   ]
  },
  {
   "cell_type": "markdown",
   "id": "5a8b0132",
   "metadata": {},
   "source": [
    "### Make MLD climatology"
   ]
  },
  {
   "cell_type": "code",
   "execution_count": 11,
   "id": "3f55baab",
   "metadata": {},
   "outputs": [],
   "source": [
    "mld_obs_clim = []\n",
    "mld_mdl_clim = []\n",
    "\n",
    "for i in range(1, 13, 1):\n",
    "        \n",
    "    x = ds_mld.sel(time=ds_mld['time.month']==i)\n",
    "    mld_obs_clim += np.nanmean(x.mld_obs, axis=0),\n",
    "    mld_mdl_clim += np.nanmean(x.mld_mdl_subsampled, axis=0),\n",
    "    \n",
    "mld_obs_clim = np.array(mld_obs_clim)\n",
    "mld_mdl_clim = np.array(mld_mdl_clim)"
   ]
  },
  {
   "cell_type": "markdown",
   "id": "aa4ea27b",
   "metadata": {},
   "source": [
    "# PLOT"
   ]
  },
  {
   "cell_type": "code",
   "execution_count": 14,
   "id": "10c5400e",
   "metadata": {},
   "outputs": [],
   "source": [
    "red  = pu.formatting_plots.get_rb_colors('r')\n",
    "blue = pu.formatting_plots.get_rb_colors('b')"
   ]
  },
  {
   "cell_type": "code",
   "execution_count": 18,
   "id": "af9326fe",
   "metadata": {},
   "outputs": [
    {
     "data": {
      "image/png": "[encoded data removed]",
      "text/plain": [
       "<Figure size 864x432 with 4 Axes>"
      ]
     },
     "metadata": {
      "needs_background": "light"
     },
     "output_type": "display_data"
    }
   ],
   "source": [
    "fig = plt.figure(figsize=(12,6))\n",
    "\n",
    "ax = fig.add_subplot(211)\n",
    "\n",
    "ax.plot(num_obs.time, num_obs.num_obs, color=blue)\n",
    "ax.set_ylim(0, 3000)\n",
    "ax.yaxis.set_ticks(np.arange(0, 3500, 500))\n",
    "ax.set_xlabel(\"Year\", labelpad=5)\n",
    "ax.set_ylabel(\"Number of observations\", labelpad=10, color=blue)\n",
    "ax.grid()\n",
    "\n",
    "ax2= ax.twinx()\n",
    "ax2.plot(ngrdpts.time, 100*(ngrdpts.num_gpts/tot_ocegridpts), color=red)\n",
    "ax2.set_ylim(0, 60)\n",
    "ax2.yaxis.set_ticks(np.arange(0, 60, 10))\n",
    "ax2.set_ylabel(\"Ocean coverage [%]\", labelpad=10, rotation=-90, color=red)\n",
    "\n",
    "line_r = mpl.lines.Line2D([], [], color=blue, lw=2, label='Number of observations')\n",
    "line_b = mpl.lines.Line2D([], [], color=red, lw=2, label=\"Percent ocean covered\")\n",
    "leg1 = ax2.legend(handles = [line_r, line_b], ncol=2, fontsize=12, \n",
    "                  bbox_to_anchor=(0, 0.8, 1, 0.4), loc=\"lower left\")\n",
    "ax2.add_artist(leg1)\n",
    "ax.set_xlim([pd.Timestamp(2002,1,1), pd.Timestamp(2009,12,31)])\n",
    "ax.set_title('(a) Monthly-mean Argo profiles in the SO', loc='left')\n",
    "\n",
    "\n",
    "ax3 = fig.add_subplot(212)\n",
    "barwidth = [0.3 for i in range(12)]\n",
    "b1=ax3.bar(range(12), num_obs_clim.values, width=barwidth, alpha=0.5, color=blue)\n",
    "ax3.plot(range(12), num_obs_2002, 'o', color='k')\n",
    "ax3.plot(range(12), num_obs_2009, 'x', color='k')\n",
    "ax3.set_ylim(0, 11000)\n",
    "ax3.yaxis.set_ticks(np.arange(0, 12000, 2000))\n",
    "ax3.set_xlabel(\"Month of year\", labelpad=5)\n",
    "ax3.set_ylabel(\"Total number observations\", labelpad=10, color=blue)\n",
    "\n",
    "ax4= ax3.twinx()\n",
    "b2=ax4.bar(np.arange(0.5,12.5,1), ngrdpts_pers_month, width=barwidth, alpha=0.5, color=red)\n",
    "ax4.plot(np.arange(0.5, 12.5, 1), pers_gpts_2002, 'o', color='k')\n",
    "ax4.plot(np.arange(0.5, 12.5, 1), pers_gpts_2009, 'x', color='k')\n",
    "ax4.xaxis.set_ticks([])\n",
    "ax4.set_ylim(0, 50)\n",
    "ax4.set_ylabel(\"Ocean converage [%]\", labelpad=10, rotation=-90,  color=red, fontsize=12)\n",
    "\n",
    "ax4.grid()\n",
    "ax4.xaxis.set_ticks([])\n",
    "ax4.set_xlim(-0.5, 12)\n",
    "month_ticks = ['J', 'F', 'M', 'A', 'M', 'J', 'J', 'A', 'S', 'O', 'N', 'D']\n",
    "ax4.xaxis.set_ticks(np.arange(12))\n",
    "ax4.xaxis.set_ticklabels(month_ticks)\n",
    "\n",
    "handles = [mpl.patches.Patch(color=blue, alpha=0.5), mpl.patches.Patch(color=red, alpha=0.5)]\n",
    "leg1 = ax4.legend(handles,['Number of observations','Percent ocean covered'],\n",
    "                 bbox_to_anchor=(0.6, 1, 1, 0.4), loc=\"lower left\", ncol=2)\n",
    "ax4.add_artist(leg1)\n",
    "\n",
    "handles = [mpl.lines.Line2D([], [], marker=marker, mec='k', mfc='k', ls='') for marker in ['o', 'x']]\n",
    "ax4.legend(handles, ['2002', '2009'], bbox_to_anchor=(0, 0.82, 1, 0.4), loc=\"lower left\", ncol=2)\n",
    "ax4.set_title('(b) Monthly climatology in the SO 2002-2009 derived from Argo profiles', loc='left')\n",
    "plt.tight_layout()\n",
    "\n",
    "plt.savefig(f'../figures/S05.png', bbox_inches='tight', dpi=300)"
   ]
  },
  {
   "cell_type": "code",
   "execution_count": null,
   "id": "2fb1272d",
   "metadata": {},
   "outputs": [],
   "source": []
  }
 ],
 "metadata": {
  "kernelspec": {
   "display_name": "Python 3 (ipykernel)",
   "language": "python",
   "name": "python3"
  },
  "language_info": {
   "codemirror_mode": {
    "name": "ipython",
    "version": 3
   },
   "file_extension": ".py",
   "mimetype": "text/x-python",
   "name": "python",
   "nbconvert_exporter": "python",
   "pygments_lexer": "ipython3",
   "version": "3.9.6"
  },
  "toc": {
   "base_numbering": 1,
   "nav_menu": {},
   "number_sections": true,
   "sideBar": true,
   "skip_h1_title": true,
   "title_cell": "Table of Contents",
   "title_sidebar": "Contents",
   "toc_cell": true,
   "toc_position": {},
   "toc_section_display": true,
   "toc_window_display": false
  }
 },
 "nbformat": 4,
 "nbformat_minor": 5
}
